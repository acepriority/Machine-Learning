{
  "nbformat": 4,
  "nbformat_minor": 0,
  "metadata": {
    "colab": {
      "provenance": []
    },
    "kernelspec": {
      "name": "python3",
      "display_name": "Python 3"
    },
    "language_info": {
      "name": "python"
    }
  },
  "cells": [
    {
      "cell_type": "code",
      "source": [
        "import numpy as np"
      ],
      "metadata": {
        "id": "QngaYaoC71mM"
      },
      "execution_count": 1,
      "outputs": []
    },
    {
      "cell_type": "code",
      "source": [
        "a = float(input('Enter x-coordinate of the vector1: '))\n",
        "b = float(input('Enter y-coordinate of the vector1: '))\n",
        "vector1 = np.array([a, b])\n",
        "\n",
        "x = float(input('Enter x-coordinate of the vector2: '))\n",
        "y = float(input('Enter y-coordinate of the vector2: '))\n",
        "vector2 = np.array([x, y])\n",
        "\n",
        "def vector_combination(vector1, vector2):\n",
        "  resultant_vector = vector1 + vector2\n",
        "  return resultant_vector\n",
        "\n",
        "print(vector_combination(vector1, vector2))"
      ],
      "metadata": {
        "colab": {
          "base_uri": "https://localhost:8080/"
        },
        "id": "gHOS5kvs4Nfv",
        "outputId": "b09ed8ca-ba48-4e88-b792-f53ef14469d7"
      },
      "execution_count": 23,
      "outputs": [
        {
          "output_type": "stream",
          "name": "stdout",
          "text": [
            "[3 2]\n"
          ]
        }
      ]
    },
    {
      "cell_type": "code",
      "source": [
        "a = float(input('Enter x-coordinate of the vector: '))\n",
        "b = float(input('Enter y-coordinate of the vector: '))\n",
        "\n",
        "vector = np.array([a, b])\n",
        "scalar = int(input('enter scalar - '))\n",
        "\n",
        "def vector_scaling(vector, scalar):\n",
        "  scaled_vector = scalar * vector\n",
        "  return scaled_vector\n",
        "\n",
        "print(vector_scaling(vector, scalar))"
      ],
      "metadata": {
        "colab": {
          "base_uri": "https://localhost:8080/"
        },
        "id": "gFVx7NseIiKo",
        "outputId": "584c2587-87de-4695-ec0b-d8fbedc6c75f"
      },
      "execution_count": 26,
      "outputs": [
        {
          "output_type": "stream",
          "name": "stdout",
          "text": [
            "Enter x-coordinate of the vector: 2\n",
            "Enter y-coordinate of the vector: 3\n",
            "enter scalar - 2\n",
            "[4. 6.]\n"
          ]
        }
      ]
    },
    {
      "cell_type": "code",
      "source": [
        "a = float(input('Enter x-coordinate of the vector1: '))\n",
        "b = float(input('Enter y-coordinate of the vector1: '))\n",
        "vector1 = np.array([a, b])\n",
        "\n",
        "x = float(input('Enter x-coordinate of the vector2: '))\n",
        "y = float(input('Enter y-coordinate of the vector2: '))\n",
        "vector2 = np.array([x, y])\n",
        "\n",
        "def vector_dot(vector1, vector2):\n",
        "  dot_product = np.dot(vector1, vector2)\n",
        "  return dot_product\n",
        "\n",
        "print(vector_dot(vector1, vector2))"
      ],
      "metadata": {
        "id": "9VZTnvVNIh-u"
      },
      "execution_count": 17,
      "outputs": []
    },
    {
      "cell_type": "code",
      "source": [
        "def input_matrix(prompt):\n",
        "    rows = int(input(f'Enter the number of rows for {prompt}: '))\n",
        "    cols = int(input(f'Enter the number of columns for {prompt}: '))\n",
        "    matrix = []\n",
        "    for i in range(rows):\n",
        "        row = []\n",
        "        for j in range(cols):\n",
        "            element = float(input(f'Enter the element at row {i+1}, column {j+1}: '))\n",
        "            row.append(element)\n",
        "        matrix.append(row)\n",
        "    return np.array(matrix)\n",
        "\n",
        "matrix1 = input_matrix('matrix1')\n",
        "matrix2 = input_matrix('matrix2')\n",
        "\n",
        "def matrix_multipulication(matrix1, matrix2):\n",
        "  result_matrix = np.matmul(matrix1, matrix2)\n",
        "  return result_matrix\n",
        "\n",
        "print(matrix_multipulication(matrix1, matrix2))"
      ],
      "metadata": {
        "colab": {
          "base_uri": "https://localhost:8080/"
        },
        "id": "lZ6UA59P4XNe",
        "outputId": "d2884c70-e319-4996-ec49-6339e00a196c"
      },
      "execution_count": 27,
      "outputs": [
        {
          "output_type": "stream",
          "name": "stdout",
          "text": [
            "Enter the number of rows for matrix1: 2\n",
            "Enter the number of columns for matrix1: 2\n",
            "Enter the element at row 1, column 1: 1\n",
            "Enter the element at row 1, column 2: 2\n",
            "Enter the element at row 2, column 1: 1\n",
            "Enter the element at row 2, column 2: 2\n",
            "Enter the number of rows for matrix2: 2\n",
            "Enter the number of columns for matrix2: 2\n",
            "Enter the element at row 1, column 1: 3\n",
            "Enter the element at row 1, column 2: 4\n",
            "Enter the element at row 2, column 1: 3\n",
            "Enter the element at row 2, column 2: 4\n",
            "[[ 9. 12.]\n",
            " [ 9. 12.]]\n"
          ]
        }
      ]
    },
    {
      "cell_type": "code",
      "source": [
        "def input_matrix(prompt):\n",
        "    rows = int(input(f'Enter the number of rows for {prompt}: '))\n",
        "    cols = int(input(f'Enter the number of columns for {prompt}: '))\n",
        "    matrix = []\n",
        "    for i in range(rows):\n",
        "        row = []\n",
        "        for j in range(cols):\n",
        "            element = float(input(f'Enter the element at row {i+1}, column {j+1}: '))\n",
        "            row.append(element)\n",
        "        matrix.append(row)\n",
        "    return np.array(matrix)\n",
        "\n",
        "Matrix = input_matrix('Matrix')\n",
        "\n",
        "def matrix_QRdecomposition(Matrix):\n",
        "  Q, R = np.linalg.qr(Matrix)\n",
        "  return Q, R\n",
        "\n",
        "print(matrix_QRdecomposition(Matrix))"
      ],
      "metadata": {
        "colab": {
          "base_uri": "https://localhost:8080/"
        },
        "id": "Zi5c112KI35L",
        "outputId": "53bd2737-7064-4a6f-a588-ed5098f90e6b"
      },
      "execution_count": 28,
      "outputs": [
        {
          "output_type": "stream",
          "name": "stdout",
          "text": [
            "Enter the number of rows for Matrix: 2\n",
            "Enter the number of columns for Matrix: 2\n",
            "Enter the element at row 1, column 1: 1\n",
            "Enter the element at row 1, column 2: 2\n",
            "Enter the element at row 2, column 1: 1\n",
            "Enter the element at row 2, column 2: 2\n",
            "(array([[-0.70710678, -0.70710678],\n",
            "       [-0.70710678,  0.70710678]]), array([[-1.41421356, -2.82842712],\n",
            "       [ 0.        ,  0.        ]]))\n"
          ]
        }
      ]
    },
    {
      "cell_type": "code",
      "source": [
        "def input_matrix(prompt):\n",
        "    rows = int(input(f'Enter the number of rows for {prompt}: '))\n",
        "    cols = int(input(f'Enter the number of columns for {prompt}: '))\n",
        "    matrix = []\n",
        "    for i in range(rows):\n",
        "        row = []\n",
        "        for j in range(cols):\n",
        "            element = float(input(f'Enter the element at row {i+1}, column {j+1}: '))\n",
        "            row.append(element)\n",
        "        matrix.append(row)\n",
        "    return np.array(matrix)\n",
        "\n",
        "X = input_matrix('coefficient matrix X')\n",
        "y = input_matrix('vector of constants y')\n",
        "\n",
        "def linear_sys(X, y):\n",
        "    try:\n",
        "        solution = np.linalg.solve(X, y)\n",
        "        return solution\n",
        "    except np.linalg.LinAlgError:\n",
        "        return \"The system of equations does not have a unique solution.\"\n",
        "\n",
        "result = linear_sys(X, y)\n",
        "print(f'Solution to the System of Equations: {result}')"
      ],
      "metadata": {
        "colab": {
          "base_uri": "https://localhost:8080/"
        },
        "id": "JWBV1lQ34dsa",
        "outputId": "e796432e-e2f7-4c5b-d1d0-245655edf04c"
      },
      "execution_count": 29,
      "outputs": [
        {
          "output_type": "stream",
          "name": "stdout",
          "text": [
            "Enter the number of rows for coefficient matrix X: 1\n",
            "Enter the number of columns for coefficient matrix X: 2\n",
            "Enter the element at row 1, column 1: 1\n",
            "Enter the element at row 1, column 2: 2\n",
            "Enter the number of rows for vector of constants y: 1\n",
            "Enter the number of columns for vector of constants y: 1\n",
            "Enter the element at row 1, column 1: 3\n",
            "Solution to the System of Equations: The system of equations does not have a unique solution.\n"
          ]
        }
      ]
    },
    {
      "cell_type": "code",
      "execution_count": 5,
      "metadata": {
        "id": "qIPkpD9At-yA"
      },
      "outputs": [],
      "source": [
        "def input_matrix(prompt):\n",
        "    rows = int(input(f'Enter the number of rows for {prompt}: '))\n",
        "    cols = int(input(f'Enter the number of columns for {prompt}: '))\n",
        "    matrix = []\n",
        "    for i in range(rows):\n",
        "        row = []\n",
        "        for j in range(cols):\n",
        "            element = float(input(f'Enter the element at row {i+1}, column {j+1}: '))\n",
        "            row.append(element)\n",
        "        matrix.append(row)\n",
        "    return np.array(matrix)\n",
        "\n",
        "Matrix = input_matrix('Matrix')\n",
        "\n",
        "def inverse_matrix(Matrix):\n",
        "  inverse_matrix = np.linalg.inv(Matrix)\n",
        "  return inverse_matrix\n",
        "\n",
        "print(inverse_matrix(Matrix))"
      ]
    }
  ]
}