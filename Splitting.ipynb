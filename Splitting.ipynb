{
  "cells": [
    {
      "cell_type": "code",
      "execution_count": null,
      "id": "6fea7c53",
      "metadata": {
        "id": "6fea7c53"
      },
      "outputs": [],
      "source": [
        "import pandas as pd\n",
        "import itertools\n",
        "import numpy as np"
      ]
    },
    {
      "cell_type": "code",
      "execution_count": null,
      "id": "769270b5",
      "metadata": {
        "id": "769270b5"
      },
      "outputs": [],
      "source": [
        "# Iterate over the rows in the input dataframe\n",
        "for index, row in input_df.iterrows():\n",
        "    # Split the N, P, K ranges and convert to integer\n",
        "    n_min, n_max = map(int, row['N (mg/kg)'].split('-'))\n",
        "    p_min, p_max = map(int, row['P (mg/kg)'].split('-'))\n",
        "    k_min, k_max = map(int, row['K (mg/kg)'].split('-'))\n",
        "    ph_min, ph_max = map(float, row['pH'].split('-', maxsplit=1))\n",
        "    ec_min, ec_max = map(float, row['EC(uS/cm)'].split('-', maxsplit=1))\n",
        "    m_min, m_max = map(int, row['MOISTURE (%)'].split('-'))\n",
        "\n",
        "    # Generate all possible combinations for the current crop\n",
        "    crop_combinations = list(itertools.product(\n",
        "        [row['Crop']],\n",
        "        range(n_min, n_max+1, 3),\n",
        "        range(p_min, p_max+1, 3),\n",
        "        range(k_min, k_max+1, 3),\n",
        "        np.arange(ph_min, ph_max+0.1, 0.3),\n",
        "        np.arange(ec_min, ec_max+0.1, 0.3),\n",
        "        range(m_min, m_max+1, 3),\n",
        "    ))\n",
        "\n",
        "    # Save the combinations for the current crop to a new dataframe\n",
        "    crop_df = pd.DataFrame(\n",
        "        crop_combinations,\n",
        "        columns=['Crop', 'N (mg/kg)', 'P (mg/kg)', 'K (mg/kg)', 'pH', 'EC(uS/cm)', 'MOISTURE (%)']\n",
        "    )\n",
        "\n",
        "    # Append the combinations for the current crop to the file\n",
        "    with open('crop_dataset2.csv', mode='a', newline='') as file:\n",
        "        if index == 0:\n",
        "            crop_df.to_csv(file, index=False)\n",
        "        else:\n",
        "            crop_df.to_csv(file, header=False, index=False)\n"
      ]
    },
    {
      "cell_type": "markdown",
      "source": [
        "\n",
        "\n",
        "---\n",
        "\n"
      ],
      "metadata": {
        "id": "_GLabHF104kN"
      },
      "id": "_GLabHF104kN"
    },
    {
      "cell_type": "code",
      "source": [
        "from google.colab import drive\n",
        "drive.mount('/content/gdrive', force_remount= True)"
      ],
      "metadata": {
        "colab": {
          "base_uri": "https://localhost:8080/"
        },
        "id": "RPbe6xTd7A3V",
        "outputId": "2758e8a9-fef4-4126-edf4-04fbe100deae"
      },
      "id": "RPbe6xTd7A3V",
      "execution_count": 2,
      "outputs": [
        {
          "output_type": "stream",
          "name": "stdout",
          "text": [
            "Mounted at /content/gdrive\n"
          ]
        }
      ]
    },
    {
      "cell_type": "code",
      "source": [
        "import random\n",
        "import pandas as pd\n",
        "import itertools\n",
        "import numpy as np"
      ],
      "metadata": {
        "id": "5rIpaxWz7vM7"
      },
      "id": "5rIpaxWz7vM7",
      "execution_count": 4,
      "outputs": []
    },
    {
      "cell_type": "code",
      "execution_count": 5,
      "id": "ce1b9265",
      "metadata": {
        "id": "ce1b9265"
      },
      "outputs": [],
      "source": [
        "# Read the excel file into a pandas dataframe\n",
        "input_df = pd.read_excel('/content/gdrive/MyDrive/agrisonic/cropvalues.xlsx')"
      ]
    },
    {
      "cell_type": "code",
      "source": [
        "# Set the maximum number of combinations per crop type\n",
        "max_combinations_per_crop = 500000\n",
        "\n",
        "# Iterate over the rows in the input dataframe\n",
        "for index, row in input_df.iterrows():\n",
        "    # Split the N, P, K ranges and convert to integer\n",
        "    n_min, n_max = map(int, row['N (mg/kg)'].split('-'))\n",
        "    p_min, p_max = map(int, row['P (mg/kg)'].split('-'))\n",
        "    k_min, k_max = map(int, row['K (mg/kg)'].split('-'))\n",
        "    ph_min, ph_max = map(float, row['pH'].split('-', maxsplit=1))\n",
        "    ec_min, ec_max = map(float, row['EC(uS/cm)'].split('-', maxsplit=1))\n",
        "    m_min, m_max = map(int, row['MOISTURE (%)'].split('-'))\n",
        "\n",
        "    # Generate all possible combinations for the current crop\n",
        "    crop_combinations = []\n",
        "\n",
        "    # Track the number of combinations per crop type\n",
        "    combination_counter = 0\n",
        "\n",
        "    # Generate random splits until the maximum limit per crop type is reached\n",
        "    while combination_counter < max_combinations_per_crop:\n",
        "        # Randomly split the ranges\n",
        "        n_value = random.randint(n_min, n_max)\n",
        "        p_value = random.randint(p_min, p_max)\n",
        "        k_value = random.randint(k_min, k_max)\n",
        "        ph_value = random.uniform(ph_min, ph_max)\n",
        "        ec_value = random.uniform(ec_min, ec_max)\n",
        "        m_value = random.randint(m_min, m_max)\n",
        "\n",
        "        # Append the combination to the list\n",
        "        crop_combinations.append((row['Crop'], n_value, p_value, k_value, ph_value, ec_value, m_value))\n",
        "\n",
        "        # Increment the combination counter\n",
        "        combination_counter += 1\n",
        "\n",
        "    # Save the combinations for the current crop to a new dataframe\n",
        "    crop_df = pd.DataFrame(\n",
        "        crop_combinations,\n",
        "        columns=['Crop', 'N (mg/kg)', 'P (mg/kg)', 'K (mg/kg)', 'pH', 'EC(uS/cm)', 'MOISTURE (%)']\n",
        "    )\n",
        "\n",
        "    output_path = '/content/gdrive/MyDrive/agrisonic/crop_dataset3.csv'\n",
        "    # Append the combinations for the current crop to the file\n",
        "    with open(output_path, mode='a', newline='') as file:\n",
        "        if index == 0:\n",
        "            crop_df.to_csv(file, index=False)\n",
        "        else:\n",
        "            crop_df.to_csv(file, header=False, index=False)\n"
      ],
      "metadata": {
        "id": "RiGzt9Pf50rO"
      },
      "id": "RiGzt9Pf50rO",
      "execution_count": 9,
      "outputs": []
    }
  ],
  "metadata": {
    "kernelspec": {
      "display_name": "Python 3 (ipykernel)",
      "language": "python",
      "name": "python3"
    },
    "language_info": {
      "codemirror_mode": {
        "name": "ipython",
        "version": 3
      },
      "file_extension": ".py",
      "mimetype": "text/x-python",
      "name": "python",
      "nbconvert_exporter": "python",
      "pygments_lexer": "ipython3",
      "version": "3.9.12"
    },
    "colab": {
      "provenance": []
    }
  },
  "nbformat": 4,
  "nbformat_minor": 5
}